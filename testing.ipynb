{
 "cells": [
  {
   "cell_type": "code",
   "execution_count": 1,
   "metadata": {},
   "outputs": [],
   "source": [
    "import argparse\n",
    "from datetime import datetime, timedelta\n",
    "from itertools import compress, islice, imap, chain, izip\n",
    "import numpy\n",
    "import mpl_finance as finance\n",
    "from matplotlib import pyplot as plt, mlab\n",
    "from network import InputLayer, HiddenLayer, OutputLayer, NeuralNetwork\n",
    "from animate import AnimatePlots\n",
    "from yahoo_historical import Fetcher"
   ]
  },
  {
   "cell_type": "code",
   "execution_count": 2,
   "metadata": {},
   "outputs": [],
   "source": [
    "def parse_date(string):\n",
    "    return datetime.strptime(string, '%Y-%m-%d').date()\n"
   ]
  },
  {
   "cell_type": "code",
   "execution_count": 3,
   "metadata": {},
   "outputs": [
    {
     "name": "stderr",
     "output_type": "stream",
     "text": [
      "No traceback available to show.\n"
     ]
    },
    {
     "data": {
      "text/plain": [
       "_StoreAction(option_strings=['--momentum'], dest='momentum', nargs=None, const=None, default=0.2, type=<type 'float'>, choices=None, help='Momentum Term defaults to 0.2', metavar=None)"
      ]
     },
     "execution_count": 3,
     "metadata": {},
     "output_type": "execute_result"
    }
   ],
   "source": [
    "%tb\n",
    "parser = argparse.ArgumentParser(description='Neural Network Stock price predictor.')\n",
    "parser.add_argument('--stock', type=str, default='SBIN.BO', nargs='?', help='Stock symbol such as appl')\n",
    "parser.add_argument('--start_date', type=parse_date, nargs='?', default=None, help='start date of the data set such as 2014-01-01')\n",
    "parser.add_argument('--end_date', type=parse_date, default=None, nargs='?', help='end date of the data set such as %s' % str(datetime.today().date()))\n",
    "parser.add_argument('--training', default=None, type=float, nargs='?', help='Training set quantity, magnitude if value greater than 1 or percentage if less than 1')\n",
    "parser.add_argument('--time_series', type=int, default=None, nargs='?', help='treat the training set as a time series with a giving window size otherwise just interpolate')\n",
    "parser.add_argument('--animate', default=None, help='Animate current progress either in the foreground of the background' )\n",
    "parser.add_argument('--max_iterations', type=int, default=1000, nargs='?', help='Maximum number of iterations.')\n",
    "parser.add_argument('--threshold', type=float, default=.001, nargs='?', help='Minimum, relative error before halting.')\n",
    "parser.add_argument('--hidden_neuron_count', type=int, default=10, nargs='?', help='Number of Hidden Neurons to be used')\n",
    "parser.add_argument('--activation', default='HyperbolicTangent', nargs='?', help='Hidden layers Activation function default: HyperbolicTangent')\n",
    "parser.add_argument('--normalization', default='Statistical', nargs='?', help='Normalization Class default: Statistical')\n",
    "parser.add_argument('--learning_rate', type=float, default=.2, help='Neural Networks learning rate defaults to 0.2')\n",
    "parser.add_argument('--momentum', type=float, default=.2, help='Momentum Term defaults to 0.2')\n",
    "\n",
    "\n",
    "# main(**vars(parser.parse_args()))"
   ]
  },
  {
   "cell_type": "code",
   "execution_count": 9,
   "metadata": {},
   "outputs": [
    {
     "name": "stderr",
     "output_type": "stream",
     "text": [
      "usage: ipykernel_launcher.py [-h] [--stock [STOCK]]\n",
      "                             [--start_date [START_DATE]]\n",
      "                             [--end_date [END_DATE]] [--training [TRAINING]]\n",
      "                             [--time_series [TIME_SERIES]] [--animate ANIMATE]\n",
      "                             [--max_iterations [MAX_ITERATIONS]]\n",
      "                             [--threshold [THRESHOLD]]\n",
      "                             [--hidden_neuron_count [HIDDEN_NEURON_COUNT]]\n",
      "                             [--activation [ACTIVATION]]\n",
      "                             [--normalization [NORMALIZATION]]\n",
      "                             [--learning_rate LEARNING_RATE]\n",
      "                             [--momentum MOMENTUM]\n",
      "ipykernel_launcher.py: error: unrecognized arguments: -f /run/user/1000/jupyter/kernel-cc2686e2-7ee5-4ee6-b817-fe5b2fc73d22.json\n"
     ]
    },
    {
     "ename": "SystemExit",
     "evalue": "2",
     "output_type": "error",
     "traceback": [
      "An exception has occurred, use %tb to see the full traceback.\n",
      "\u001b[0;31mSystemExit\u001b[0m\u001b[0;31m:\u001b[0m 2\n"
     ]
    }
   ],
   "source": [
    "parser.parse_args()\n"
   ]
  },
  {
   "cell_type": "code",
   "execution_count": null,
   "metadata": {},
   "outputs": [],
   "source": []
  }
 ],
 "metadata": {
  "kernelspec": {
   "display_name": "Python 2",
   "language": "python",
   "name": "python2"
  },
  "language_info": {
   "codemirror_mode": {
    "name": "ipython",
    "version": 2
   },
   "file_extension": ".py",
   "mimetype": "text/x-python",
   "name": "python",
   "nbconvert_exporter": "python",
   "pygments_lexer": "ipython2",
   "version": "2.7.15rc1"
  }
 },
 "nbformat": 4,
 "nbformat_minor": 2
}
